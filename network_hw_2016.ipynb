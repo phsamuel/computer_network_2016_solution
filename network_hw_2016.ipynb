{
 "cells": [
  {
   "cell_type": "markdown",
   "metadata": {},
   "source": [
    "## HW5"
   ]
  },
  {
   "cell_type": "raw",
   "metadata": {},
   "source": [
    "The arrival rate to a router is 100 packets per second. And the router will always process a packet with exactly 5ms. And let's assume that the queue inside of the router has infinite length.\n",
    "\n",
    "1. What is the probability that we see exactly 100 packets arrived in a second?\n",
    "2. What is the probability that we have less than 5 packets arrived in a second?\n",
    "3. What is the probability that the interarrival time is more than 20 ms?\n",
    "4. What is the average wait time of a packet?\n",
    "5. What is the average delay?\n",
    "6. Assuming that now half of the incoming packing will have length doubling of the original and the router will need double amount of the time to process them. In other words, now 50% of the packets will need 10ms processing time and the remaining 50% need 5 ms. What will the average wait time and average delay become? "
   ]
  },
  {
   "cell_type": "markdown",
   "metadata": {},
   "source": [
    "1). $Pr(\\mbox{100 packets in a second}) = \\frac{\\exp(- \\lambda t) (\\lambda t)^{100}}{100!}$\n"
   ]
  },
  {
   "cell_type": "code",
   "execution_count": 38,
   "metadata": {
    "collapsed": false
   },
   "outputs": [
    {
     "data": {
      "text/plain": [
       "0.039860996809147134"
      ]
     },
     "execution_count": 38,
     "metadata": {},
     "output_type": "execute_result"
    }
   ],
   "source": [
    "import math\n",
    "l=100\n",
    "t=1\n",
    "math.exp(-l *t)*math.pow(l*t,100)/math.factorial(100)"
   ]
  },
  {
   "cell_type": "markdown",
   "metadata": {},
   "source": [
    "2). $Pr(\\mbox{Less than 5 packets})=\\sum_{n=0}^{4}\\frac{\\exp(- \\lambda t) (\\lambda t)^{n}}{n!}$"
   ]
  },
  {
   "cell_type": "code",
   "execution_count": 39,
   "metadata": {
    "collapsed": false
   },
   "outputs": [
    {
     "data": {
      "text/plain": [
       "1.6139305336977305e-37"
      ]
     },
     "execution_count": 39,
     "metadata": {},
     "output_type": "execute_result"
    }
   ],
   "source": [
    "s=0.\n",
    "for n in xrange(0,5):\n",
    "    s=s+math.exp(-l *t)*math.pow(l*t,n)/math.factorial(n)\n",
    "s"
   ]
  },
  {
   "cell_type": "markdown",
   "metadata": {},
   "source": [
    "3). $Pr(\\mbox{Interarrival time > 20ms}) = \\int_{t=20ms}^{\\infty} \\lambda \\exp(-\\lambda t) dt = \\exp(-\\lambda 20ms)$"
   ]
  },
  {
   "cell_type": "code",
   "execution_count": 40,
   "metadata": {
    "collapsed": false
   },
   "outputs": [
    {
     "data": {
      "text/plain": [
       "0.1353352832366127"
      ]
     },
     "execution_count": 40,
     "metadata": {},
     "output_type": "execute_result"
    }
   ],
   "source": [
    "math.exp(-l * 20/1000)"
   ]
  },
  {
   "cell_type": "markdown",
   "metadata": {},
   "source": [
    "4). Average wait time = $\\frac{\\lambda E[X^2]}{2(1-\\rho)}$ (P-K Formula)"
   ]
  },
  {
   "cell_type": "markdown",
   "metadata": {},
   "source": [
    "$E[X^2]=0.005^2 s^2$\n",
    "\n",
    "$\\rho = \\frac{\\lambda}{\\mu} = \\lambda \\bar{X} = 100 \\times 0.005 = 0.5$"
   ]
  },
  {
   "cell_type": "code",
   "execution_count": 41,
   "metadata": {
    "collapsed": false
   },
   "outputs": [
    {
     "data": {
      "text/plain": [
       "0.0025"
      ]
     },
     "execution_count": 41,
     "metadata": {},
     "output_type": "execute_result"
    }
   ],
   "source": [
    "wait_time = l*(0.005**2) / (2*(1-0.5))\n",
    "wait_time"
   ]
  },
  {
   "cell_type": "markdown",
   "metadata": {},
   "source": [
    "5). Average Delay = Average wait time + service time = 0.0025 + 0.005 = 0.0075"
   ]
  },
  {
   "cell_type": "markdown",
   "metadata": {},
   "source": [
    "6). If half of the packets take 0.01 s to serve, average service time $\\bar{X}$= (0.01 + 0.005)/2 = 0.0075"
   ]
  },
  {
   "cell_type": "markdown",
   "metadata": {},
   "source": [
    "And $E[X^2] = \\frac{0.005^2 + 0.01^2}{2}$"
   ]
  },
  {
   "cell_type": "markdown",
   "metadata": {},
   "source": [
    "$\\rho = \\frac{\\lambda}{\\mu} = \\lambda \\bar{X} = 100 \\times 0.0075  = 0.75$"
   ]
  },
  {
   "cell_type": "markdown",
   "metadata": {},
   "source": [
    "Average wait time = $\\frac{\\lambda E[X^2]}{2(1-\\rho)}$"
   ]
  },
  {
   "cell_type": "code",
   "execution_count": 42,
   "metadata": {
    "collapsed": false
   },
   "outputs": [
    {
     "data": {
      "text/plain": [
       "0.0125"
      ]
     },
     "execution_count": 42,
     "metadata": {},
     "output_type": "execute_result"
    }
   ],
   "source": [
    "wait_time=l*(0.005**2+0.01**2)/2/(2*(1-0.75))\n",
    "wait_time"
   ]
  },
  {
   "cell_type": "markdown",
   "metadata": {},
   "source": [
    "Average Delay = Average wait time + service time = 0.0125 + 0.0075 = 0.02"
   ]
  },
  {
   "cell_type": "markdown",
   "metadata": {},
   "source": [
    "## HW6"
   ]
  },
  {
   "cell_type": "raw",
   "metadata": {},
   "source": [
    "Consider a store with only two cashiers, one of them is hardworking and is always serving customers. And another one is lazy and will only work when the number of people waiting in the queue of the first cashier is larger than 10 (exclude the customer currently served). Both cashiers are equally efficient and can handle on average 2 customers per minute. And the service time is exponentially distributed. Assume that the arrival statistics of customers that came in to buy something are Poisson distributed with an average 3 customers per minute.\n",
    "\n",
    "1. Draw a state transition diagram to describe the problem.\n",
    "\n",
    "2. What is the steady state probability of having 12 customers in the store?\n",
    "\n",
    "3. On average how many customers are in the store?\n",
    "\n",
    "4. What is the average time spent of a customer to checkout?\n",
    "\n"
   ]
  },
  {
   "cell_type": "markdown",
   "metadata": {},
   "source": [
    "1). "
   ]
  },
  {
   "cell_type": "code",
   "execution_count": 43,
   "metadata": {
    "collapsed": false
   },
   "outputs": [
    {
     "data": {
      "image/png": "[encoded data removed]",
      "text/plain": [
       "<IPython.core.display.Image object>"
      ]
     },
     "execution_count": 43,
     "metadata": {},
     "output_type": "execute_result"
    }
   ],
   "source": [
    "from IPython.display import Image\n",
    "Image(filename='2016_network_hw.png')"
   ]
  },
  {
   "cell_type": "markdown",
   "metadata": {},
   "source": [
    "2). $\\Pi_n = \\rho \\Pi_{n-1}$ when $n \\le 11$\n",
    "\n",
    "$\\Pi_n = \\frac{\\rho}{2} \\Pi_{n-1}$ otherwise"
   ]
  },
  {
   "cell_type": "markdown",
   "metadata": {},
   "source": [
    "$1=\\sum_{n=0}^{\\infty} \\Pi_n=\\Pi_0 \\left[ \\sum_{n=0}^{10} \\rho^{n} + \\sum_{n=0}^{\\infty} \\rho^{11} \\left(\\frac{\\rho}{2}\\right)^n \\right]$"
   ]
  },
  {
   "cell_type": "markdown",
   "metadata": {},
   "source": [
    "$= \\Pi_0 \\left[ \\frac{1- \\rho^{11}}{1- \\rho} + \\frac{\\rho^{11}}{1-\\rho/2} \\right]$"
   ]
  },
  {
   "cell_type": "markdown",
   "metadata": {},
   "source": [
    "$\\Pi_0 = \\left[ \\frac{1- \\rho^{11}}{1- \\rho} + \\frac{\\rho^{11}}{1-\\rho/2} \\right]^{-1}$"
   ]
  },
  {
   "cell_type": "markdown",
   "metadata": {},
   "source": [
    "$\\Pi_{12} = \\frac{\\rho^{12}}{2} \\Pi_0$"
   ]
  },
  {
   "cell_type": "code",
   "execution_count": 44,
   "metadata": {
    "collapsed": false
   },
   "outputs": [
    {
     "data": {
      "text/plain": [
       "0.0019342907820843872"
      ]
     },
     "execution_count": 44,
     "metadata": {},
     "output_type": "execute_result"
    }
   ],
   "source": [
    "l = 3.\n",
    "mu = 2.\n",
    "rho = l/mu\n",
    "th=11\n",
    "P0 = 1./((1.-rho**th)/(1-rho) + (rho**th)/(1-rho/2))\n",
    "P0"
   ]
  },
  {
   "cell_type": "code",
   "execution_count": 45,
   "metadata": {
    "collapsed": false
   },
   "outputs": [
    {
     "data": {
      "text/plain": [
       "0.1254835726955211"
      ]
     },
     "execution_count": 45,
     "metadata": {},
     "output_type": "execute_result"
    }
   ],
   "source": [
    "P12= rho**(th+1)/2. * P0\n",
    "P12"
   ]
  },
  {
   "cell_type": "markdown",
   "metadata": {},
   "source": [
    "3). Average customer in stores = $\\Pi_0 \\left[ \\sum_{n=0}^{10} n \\rho^{n} + \\sum_{n=0}^{\\infty} (11 + n) \\rho^{11} \\left(\\frac{\\rho}{2}\\right)^n \\right]$"
   ]
  },
  {
   "cell_type": "markdown",
   "metadata": {
    "collapsed": false
   },
   "source": [
    "$A\\triangleq \\sum_{n=0}^{10} n \\rho^{n} = \\rho \\sum_{n=0}^{10} n \\rho^{n-1} = \\rho \\left(\\sum_{n=0}^{10} \\rho^{n} \\right)'= \\rho \\left(\\frac{1-\\rho^{11}}{1-\\rho}\\right)' $"
   ]
  },
  {
   "cell_type": "markdown",
   "metadata": {
    "collapsed": true
   },
   "source": [
    "$B \\triangleq \\sum_{n=0}^{\\infty} 11 \\rho^{11} \\left(\\frac{\\rho}{2}\\right)^n =   \\frac{11 \\rho^{11} }{1-\\rho/2}$"
   ]
  },
  {
   "cell_type": "markdown",
   "metadata": {},
   "source": [
    "$C \\triangleq \\sum_{n=0}^{\\infty}  n \\rho^{11} \\left(\\frac{\\rho}{2}\\right)^n = \\frac{ \\rho^{12}}{2} \\sum_{n=0}^{\\infty} n \\left(\\frac{\\rho}{2}\\right)^{n-1} = \\frac{ \\rho^{12}}{2 (1-\\rho/2)^2} $"
   ]
  },
  {
   "cell_type": "code",
   "execution_count": 46,
   "metadata": {
    "collapsed": false
   },
   "outputs": [],
   "source": [
    "import sympy\n",
    "r=sympy.symbols('r')\n",
    "f=(1-r**th)/(1-r)\n",
    "df=sympy.diff(f,r)\n",
    "A = rho*df.subs(r,rho)\n",
    "B = th*rho**th/(1-rho/2)\n",
    "C = rho**(th+1)/(2*(1-rho/2)**2)"
   ]
  },
  {
   "cell_type": "code",
   "execution_count": 47,
   "metadata": {
    "collapsed": false
   },
   "outputs": [
    {
     "data": {
      "text/plain": [
       "12.0580287234625"
      ]
     },
     "execution_count": 47,
     "metadata": {},
     "output_type": "execute_result"
    }
   ],
   "source": [
    "Average_num_in_store = P0*(A+B+C)\n",
    "Average_num_in_store\n",
    "                        "
   ]
  },
  {
   "cell_type": "markdown",
   "metadata": {},
   "source": [
    "4). Use Little's Theorem, Average time spent (in minutes) = Average_num_in_store / lambda "
   ]
  },
  {
   "cell_type": "code",
   "execution_count": 48,
   "metadata": {
    "collapsed": false
   },
   "outputs": [
    {
     "data": {
      "text/plain": [
       "4.01934290782084"
      ]
     },
     "execution_count": 48,
     "metadata": {},
     "output_type": "execute_result"
    }
   ],
   "source": [
    "Average_time_spent = Average_num_in_store / l \n",
    "Average_time_spent"
   ]
  },
  {
   "cell_type": "code",
   "execution_count": null,
   "metadata": {
    "collapsed": false
   },
   "outputs": [],
   "source": []
  },
  {
   "cell_type": "code",
   "execution_count": null,
   "metadata": {
    "collapsed": true
   },
   "outputs": [],
   "source": []
  }
 ],
 "metadata": {
  "kernelspec": {
   "display_name": "Python 2",
   "language": "python",
   "name": "python2"
  },
  "language_info": {
   "codemirror_mode": {
    "name": "ipython",
    "version": 2
   },
   "file_extension": ".py",
   "mimetype": "text/x-python",
   "name": "python",
   "nbconvert_exporter": "python",
   "pygments_lexer": "ipython2",
   "version": "2.7.6"
  }
 },
 "nbformat": 4,
 "nbformat_minor": 0
}
